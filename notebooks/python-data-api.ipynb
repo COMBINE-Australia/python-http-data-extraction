{
 "cells": [
  {
   "cell_type": "code",
   "execution_count": 1,
   "metadata": {
    "pycharm": {
     "is_executing": false
    }
   },
   "outputs": [],
   "source": [
    "import requests\n",
    "import json\n",
    "import pandas as pd\n",
    "from io import StringIO"
   ]
  },
  {
   "cell_type": "markdown",
   "metadata": {},
   "source": [
    "`requests` is the recommended module for requesting and sending resources to a web-based API endpoint\n",
    "\n",
    "`json` is the built-in module for working with text data in JSON format"
   ]
  },
  {
   "cell_type": "code",
   "execution_count": 21,
   "metadata": {
    "pycharm": {
     "is_executing": false
    }
   },
   "outputs": [],
   "source": [
    "uniprot_url = \"https://www.uniprot.org/uploadlists\"\n",
    "headers = {\n",
    "    \"User-Agent\": \"Python, toan.phung@uq.net.au\"\n",
    "}\n",
    "acc_file = \"../data/testlist.txt\""
   ]
  },
  {
   "cell_type": "markdown",
   "metadata": {
    "pycharm": {
     "name": "#%% md\n"
    }
   },
   "source": [
    "`https://www.uniprot.org/uploadlists` is the url of the uniprot REST API that we will used to request information\n",
    "\n",
    "`headers` is the metadata that should be included with every api requests for potential debugging purpose from uniprot admin"
   ]
  },
  {
   "cell_type": "code",
   "execution_count": 7,
   "metadata": {
    "pycharm": {
     "is_executing": false
    }
   },
   "outputs": [],
   "source": [
    "with open(acc_file, \"rt\") as source_acc:\n",
    "    \n",
    "    l = [i.strip() for i in source_acc]\n",
    "    parameters = {\n",
    "                \"query\": \" \".join(l),\n",
    "                \"format\": \"tab\",\n",
    "                \"from\": \"ACC,ID\",\n",
    "                \"to\": \"ACC\",\n",
    "                \"columns\": \"id,entry name,reviewed,protein names,genes,organism,length,database(RefSeq),\" \\\n",
    "                                   \"organism-id,go-id,go(cellular component),comment(SUBCELLULAR LOCATION),\" \\\n",
    "                                   \"feature(TOPOLOGICAL_DOMAIN),feature(GLYCOSYLATION),comment(MASS SPECTROMETRY),\" \\\n",
    "                                   \"sequence,feature(ALTERNATIVE SEQUENCE),comment(ALTERNATIVE PRODUCTS) \"\n",
    "            }\n",
    "    response = requests.get(uniprot_url, params=parameters, headers=headers)"
   ]
  },
  {
   "cell_type": "markdown",
   "source": [
    "Opening the file containing our list of Uniprot accession id and store as an string array\n",
    "\n",
    "Build a dictionary with 5 keys:\n",
    "- `query` value is a string constructed from the array above with each item joined by a space\n",
    "- `format` the desired return format\n",
    "- `from` input format id type\n",
    "- `to` output format id type\n",
    "- `columns` string composed of the columns name of desired data corresponding to the id\n",
    "\n",
    "`response` is the variable containing the request result from Uniprot."
   ],
   "metadata": {
    "collapsed": false,
    "pycharm": {
     "name": "#%% md\n"
    }
   }
  },
  {
   "cell_type": "code",
   "execution_count": 9,
   "metadata": {
    "pycharm": {
     "is_executing": false
    }
   },
   "outputs": [],
   "source": [
    "result = pd.read_csv(StringIO(response.text), sep=\"\\t\")\n"
   ]
  },
  {
   "cell_type": "markdown",
   "source": [
    "`result` store uniprot tabulated data in a `pandas` dataframe.\n"
   ],
   "metadata": {
    "collapsed": false,
    "pycharm": {
     "name": "#%% md\n"
    }
   }
  },
  {
   "cell_type": "code",
   "execution_count": 40,
   "metadata": {
    "pycharm": {
     "is_executing": false
    }
   },
   "outputs": [],
   "source": [
    "eutil_path = \"https://eutils.ncbi.nlm.nih.gov/entrez/eutils/\"\n",
    "acc_list = ['NM_009417','NM_000547','NM_001003009','NM_019353']\n",
    "query = \"\"\n",
    "for i in range(len(acc_list)):\n",
    "    acc_list[i] = acc_list[i] + \"[accn]\"\n",
    "query = \"+OR+\".join(acc_list)\n",
    "params = [\n",
    "    \"db=nuccore\",\n",
    "    \"term={}\".format(query),\n",
    "    \"usehistory=y\"\n",
    "]\n",
    "url = \"&\".join(params)"
   ]
  },
  {
   "cell_type": "code",
   "execution_count": 41,
   "metadata": {
    "pycharm": {
     "is_executing": false
    }
   },
   "outputs": [],
   "source": [
    "res = requests.get(eutil_path + \"esearch.fcgi?\" + url, headers=headers)"
   ]
  },
  {
   "cell_type": "code",
   "execution_count": 6,
   "metadata": {
    "pycharm": {
     "is_executing": false
    }
   },
   "outputs": [
    {
     "data": {
      "text/plain": "b'<?xml version=\"1.0\" encoding=\"UTF-8\" ?>\\n<!DOCTYPE eSearchResult PUBLIC \"-//NLM//DTD esearch 20060628//EN\" \"https://eutils.ncbi.nlm.nih.gov/eutils/dtd/20060628/esearch.dtd\">\\n<eSearchResult><Count>4</Count><RetMax>4</RetMax><RetStart>0</RetStart><QueryKey>1</QueryKey><WebEnv>NCID_1_54036580_130.14.22.33_9001_1559264498_1086444762_0MetA0_S_MegaStore</WebEnv><IdList>\\n<Id>253735815</Id>\\n<Id>927442695</Id>\\n<Id>402766536</Id>\\n<Id>350529408</Id>\\n</IdList><TranslationSet/><TranslationStack>   <TermSet>    <Term>NM_009417[accn]</Term>    <Field>accn</Field>    <Count>1</Count>    <Explode>N</Explode>   </TermSet>   <TermSet>    <Term>NM_000547[accn]</Term>    <Field>accn</Field>    <Count>1</Count>    <Explode>N</Explode>   </TermSet>   <OP>OR</OP>   <TermSet>    <Term>NM_001003009[accn]</Term>    <Field>accn</Field>    <Count>1</Count>    <Explode>N</Explode>   </TermSet>   <OP>OR</OP>   <TermSet>    <Term>NM_019353[accn]</Term>    <Field>accn</Field>    <Count>1</Count>    <Explode>N</Explode>   </TermSet>   <OP>OR</OP>  </TranslationStack><QueryTranslation>NM_009417[accn] OR NM_000547[accn] OR NM_001003009[accn] OR NM_019353[accn]</QueryTranslation></eSearchResult>\\n'"
     },
     "metadata": {},
     "output_type": "execute_result",
     "execution_count": 6
    }
   ],
   "source": [
    "res.content"
   ]
  },
  {
   "cell_type": "markdown",
   "source": [
    "E-search would return an xml document containing the assigned ID for the query to be used for retrieving the result.\n",
    "The assigned ID is stored in two part, one in the QueryKey tab, another in the WebEnv tab.\n",
    "\n",
    "If the return result is large, it is suggested to manually grab 500 sequences at a time."
   ],
   "metadata": {
    "collapsed": false,
    "pycharm": {
     "name": "#%% md\n"
    }
   }
  },
  {
   "cell_type": "code",
   "execution_count": 7,
   "metadata": {
    "pycharm": {
     "is_executing": false
    }
   },
   "outputs": [],
   "source": [
    "from bs4 import BeautifulSoup"
   ]
  },
  {
   "cell_type": "code",
   "execution_count": 43,
   "metadata": {
    "pycharm": {
     "is_executing": false
    }
   },
   "outputs": [],
   "source": [
    "soup = BeautifulSoup(res.content, features=\"lxml-xml\")"
   ]
  },
  {
   "cell_type": "code",
   "execution_count": 44,
   "outputs": [
    {
     "name": "stdout",
     "text": [
      "4\n"
     ],
     "output_type": "stream"
    }
   ],
   "source": [
    "print(soup.find(\"Count\").text)"
   ],
   "metadata": {
    "collapsed": false,
    "pycharm": {
     "name": "#%%\n",
     "is_executing": false
    }
   }
  },
  {
   "cell_type": "code",
   "execution_count": 45,
   "metadata": {
    "pycharm": {
     "is_executing": false
    }
   },
   "outputs": [],
   "source": [
    "query_key = soup.find(\"QueryKey\").text\n",
    "web_env = soup.find(\"WebEnv\").text"
   ]
  },
  {
   "cell_type": "markdown",
   "source": [
    "Now we can use E-fetch to retrieve the result. E-fetch can return data in different format.\n",
    "More information on return datatype\n",
    "https://www.ncbi.nlm.nih.gov/books/NBK25499/table/chapter4.T._valid_values_of__retmode_and/"
   ],
   "metadata": {
    "collapsed": false
   }
  },
  {
   "cell_type": "code",
   "execution_count": 46,
   "metadata": {
    "pycharm": {
     "is_executing": false
    }
   },
   "outputs": [],
   "source": [
    "retrieve_params = [\n",
    "    \"db=nuccore\",\n",
    "    \"query_key={}\".format(query_key),\n",
    "    \"WebEnv={}\".format(web_env),\n",
    "    \"rettype=gb\",\n",
    "    \"retmode=xml\"\n",
    "]\n",
    "retrieve_url = \"&\".join(retrieve_params)"
   ]
  },
  {
   "cell_type": "code",
   "execution_count": 47,
   "outputs": [],
   "source": [
    "res = requests.get(eutil_path + \"efetch.fcgi?\" + retrieve_url, headers=headers)\n",
    "soup = BeautifulSoup(res.text, features=\"lxml-xml\")"
   ],
   "metadata": {
    "collapsed": false,
    "pycharm": {
     "name": "#%%\n",
     "is_executing": false
    }
   }
  },
  {
   "cell_type": "code",
   "execution_count": 48,
   "outputs": [],
   "source": [
    "entries = []\n",
    "for gb_seq in soup.find_all(\"GBSeq\"):\n",
    "    entry = {}\n",
    "    entry[\"locus\"] = gb_seq.find(\"GBSeq_locus\").text\n",
    "    entry[\"definition\"] = gb_seq.find(\"GBSeq_definition\").text\n",
    "    entry[\"id\"] = gb_seq.find(\"GBSeqid\").text\n",
    "    entry[\"org\"] = gb_seq.find(\"GBSeq_organism\").text\n",
    "    entry[\"sequence\"] = gb_seq.find(\"GBSeq_sequence\").text\n",
    "    entries.append(entry)\n",
    "        "
   ],
   "metadata": {
    "collapsed": false,
    "pycharm": {
     "name": "#%%\n",
     "is_executing": false
    }
   }
  },
  {
   "cell_type": "markdown",
   "source": [
    "Convert the output into a more familiar and tabulated format like a `Pandas.DataFrame`."
   ],
   "metadata": {
    "collapsed": false,
    "pycharm": {
     "name": "#%% md\n"
    }
   }
  },
  {
   "cell_type": "code",
   "execution_count": 49,
   "outputs": [
    {
     "data": {
      "text/plain": "                                          definition                   id  \\\n0  Homo sapiens thyroid peroxidase (TPO), transcr...     ref|NM_000547.5|   \n1        Mus musculus thyroid peroxidase (Tpo), mRNA     ref|NM_009417.3|   \n2   Rattus norvegicus thyroid peroxidase (Tpo), mRNA     ref|NM_019353.2|   \n3  Canis lupus familiaris thyroid peroxidase (TPO...  ref|NM_001003009.2|   \n\n          locus                     org  \n0     NM_000547            Homo sapiens  \n1     NM_009417            Mus musculus  \n2     NM_019353       Rattus norvegicus  \n3  NM_001003009  Canis lupus familiaris  ",
      "text/html": "<div>\n<style scoped>\n    .dataframe tbody tr th:only-of-type {\n        vertical-align: middle;\n    }\n\n    .dataframe tbody tr th {\n        vertical-align: top;\n    }\n\n    .dataframe thead th {\n        text-align: right;\n    }\n</style>\n<table border=\"1\" class=\"dataframe\">\n  <thead>\n    <tr style=\"text-align: right;\">\n      <th></th>\n      <th>definition</th>\n      <th>id</th>\n      <th>locus</th>\n      <th>org</th>\n    </tr>\n  </thead>\n  <tbody>\n    <tr>\n      <th>0</th>\n      <td>Homo sapiens thyroid peroxidase (TPO), transcr...</td>\n      <td>ref|NM_000547.5|</td>\n      <td>NM_000547</td>\n      <td>Homo sapiens</td>\n    </tr>\n    <tr>\n      <th>1</th>\n      <td>Mus musculus thyroid peroxidase (Tpo), mRNA</td>\n      <td>ref|NM_009417.3|</td>\n      <td>NM_009417</td>\n      <td>Mus musculus</td>\n    </tr>\n    <tr>\n      <th>2</th>\n      <td>Rattus norvegicus thyroid peroxidase (Tpo), mRNA</td>\n      <td>ref|NM_019353.2|</td>\n      <td>NM_019353</td>\n      <td>Rattus norvegicus</td>\n    </tr>\n    <tr>\n      <th>3</th>\n      <td>Canis lupus familiaris thyroid peroxidase (TPO...</td>\n      <td>ref|NM_001003009.2|</td>\n      <td>NM_001003009</td>\n      <td>Canis lupus familiaris</td>\n    </tr>\n  </tbody>\n</table>\n</div>"
     },
     "metadata": {},
     "output_type": "execute_result",
     "execution_count": 49
    }
   ],
   "source": [
    "df = pd.DataFrame(entries)\n",
    "df.head()"
   ],
   "metadata": {
    "collapsed": false,
    "pycharm": {
     "name": "#%%\n",
     "is_executing": false
    }
   }
  },
  {
   "cell_type": "code",
   "execution_count": null,
   "outputs": [],
   "source": [
    "\n"
   ],
   "metadata": {
    "collapsed": false,
    "pycharm": {
     "name": "#%%\n"
    }
   }
  }
 ],
 "metadata": {
  "kernelspec": {
   "display_name": "Python 3",
   "language": "python",
   "name": "python3"
  },
  "language_info": {
   "codemirror_mode": {
    "name": "ipython",
    "version": 3
   },
   "file_extension": ".py",
   "mimetype": "text/x-python",
   "name": "python",
   "nbconvert_exporter": "python",
   "pygments_lexer": "ipython3",
   "version": "3.6.6"
  },
  "pycharm": {
   "stem_cell": {
    "cell_type": "raw",
    "source": [],
    "metadata": {
     "collapsed": false
    }
   }
  }
 },
 "nbformat": 4,
 "nbformat_minor": 2
}