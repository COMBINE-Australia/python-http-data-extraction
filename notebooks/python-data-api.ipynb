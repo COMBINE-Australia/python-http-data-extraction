{
 "cells": [
  {
   "cell_type": "code",
   "execution_count": 8,
   "metadata": {
    "pycharm": {
     "is_executing": false
    }
   },
   "outputs": [],
   "source": [
    "import requests\n",
    "import json\n",
    "import pandas as pd\n",
    "from io import StringIO"
   ]
  },
  {
   "cell_type": "markdown",
   "metadata": {},
   "source": [
    "`requests` is the recommended module for requesting and sending resources to a web-based API endpoint\n",
    "\n",
    "`json` is the built-in module for working with text data in JSON format"
   ]
  },
  {
   "cell_type": "code",
   "execution_count": 4,
   "metadata": {
    "pycharm": {
     "is_executing": false
    }
   },
   "outputs": [],
   "source": [
    "uniprot_url = \"https://www.uniprot.org/uploadlists\"\n",
    "headers = {\n",
    "    \"User-Agent\": \"Python, toan.phung@uq.net.au\"\n",
    "}\n",
    "acc_file = \"../data/testlist.txt\""
   ]
  },
  {
   "cell_type": "markdown",
   "metadata": {
    "pycharm": {
     "name": "#%% md\n"
    }
   },
   "source": [
    "`https://www.uniprot.org/uploadlists` is the url of the uniprot REST API that we will used to request information\n",
    "\n",
    "`headers` is the metadata that should be include with every api requests for potential debugging purpose from uniprot admin"
   ]
  },
  {
   "cell_type": "code",
   "execution_count": 7,
   "metadata": {
    "pycharm": {
     "is_executing": false
    }
   },
   "outputs": [],
   "source": [
    "with open(acc_file, \"rt\") as source_acc:\n",
    "    \n",
    "    l = [i.strip() for i in source_acc]\n",
    "    parameters = {\n",
    "                \"query\": \" \".join(l),\n",
    "                \"format\": \"tab\",\n",
    "                \"from\": \"ACC,ID\",\n",
    "                \"to\": \"ACC\",\n",
    "                \"columns\": \"id,entry name,reviewed,protein names,genes,organism,length,database(RefSeq),\" \\\n",
    "                                   \"organism-id,go-id,go(cellular component),comment(SUBCELLULAR LOCATION),\" \\\n",
    "                                   \"feature(TOPOLOGICAL_DOMAIN),feature(GLYCOSYLATION),comment(MASS SPECTROMETRY),\" \\\n",
    "                                   \"sequence,feature(ALTERNATIVE SEQUENCE),comment(ALTERNATIVE PRODUCTS) \"\n",
    "            }\n",
    "    response = requests.get(uniprot_url, params=parameters, headers=headers)"
   ]
  },
  {
   "cell_type": "markdown",
   "source": [
    "Opening the file containing our list of Uniprot accession id and store as an string array\n",
    "\n",
    "Build a dictionary with 5 keys:\n",
    "- `query`: value is a string constructed from the array above with each item joined by a space\n",
    "- `format`: the desired return format\n",
    "- `from`: input format id type\n",
    "- `to`: output format id type\n",
    "- `columns`: string composed of the columns name of desired data corresponding to the id\n",
    "\n",
    "`response` is the variable containing the request result from Uniprot."
   ],
   "metadata": {
    "collapsed": false,
    "pycharm": {
     "name": "#%% md\n"
    }
   }
  },
  {
   "cell_type": "code",
   "execution_count": 9,
   "metadata": {
    "pycharm": {
     "is_executing": false
    }
   },
   "outputs": [],
   "source": [
    "result = pd.read_csv(StringIO(response.text), sep=\"\\t\")\n"
   ]
  },
  {
   "cell_type": "markdown",
   "source": [
    "`result` store uniprot tabulated data in a `pandas` dataframe.\n"
   ],
   "metadata": {
    "collapsed": false,
    "pycharm": {
     "name": "#%% md\n"
    }
   }
  },
  {
   "cell_type": "code",
   "execution_count": 50,
   "metadata": {},
   "outputs": [],
   "source": [
    "acc_list = ['NM_009417','NM_000547','NM_001003009','NM_019353']\n",
    "query = \"\"\n",
    "for i in range(len(acc_list)):\n",
    "    acc_list[i] = acc_list[i] + \"[accn]\"\n",
    "query = \"+OR+\".join(acc_list)\n",
    "params = {\n",
    "    \"db\": \"nuccore\",\n",
    "    \"term\": query\n",
    "}\n"
   ]
  },
  {
   "cell_type": "code",
   "execution_count": 58,
   "metadata": {},
   "outputs": [],
   "source": [
    "res = requests.get(\"https://eutils.ncbi.nlm.nih.gov/entrez/eutils/esearch.fcgi?db=nuccore&term=NM_009417[accn]+OR+NM_000547[accn]+OR+NM_001003009[accn]+OR+NM_019353[accn]&usehistory=y\")"
   ]
  },
  {
   "cell_type": "code",
   "execution_count": 59,
   "metadata": {},
   "outputs": [
    {
     "data": {
      "text/plain": [
       "b'<?xml version=\"1.0\" encoding=\"UTF-8\" ?>\\n<!DOCTYPE eSearchResult PUBLIC \"-//NLM//DTD esearch 20060628//EN\" \"https://eutils.ncbi.nlm.nih.gov/eutils/dtd/20060628/esearch.dtd\">\\n<eSearchResult><Count>4</Count><RetMax>4</RetMax><RetStart>0</RetStart><QueryKey>1</QueryKey><WebEnv>NCID_1_64190802_130.14.18.48_9001_1557463661_1443873040_0MetA0_S_MegaStore</WebEnv><IdList>\\n<Id>253735815</Id>\\n<Id>927442695</Id>\\n<Id>402766536</Id>\\n<Id>350529408</Id>\\n</IdList><TranslationSet/><TranslationStack>   <TermSet>    <Term>NM_009417[accn]</Term>    <Field>accn</Field>    <Count>1</Count>    <Explode>N</Explode>   </TermSet>   <TermSet>    <Term>NM_000547[accn]</Term>    <Field>accn</Field>    <Count>1</Count>    <Explode>N</Explode>   </TermSet>   <OP>OR</OP>   <TermSet>    <Term>NM_001003009[accn]</Term>    <Field>accn</Field>    <Count>1</Count>    <Explode>N</Explode>   </TermSet>   <OP>OR</OP>   <TermSet>    <Term>NM_019353[accn]</Term>    <Field>accn</Field>    <Count>1</Count>    <Explode>N</Explode>   </TermSet>   <OP>OR</OP>  </TranslationStack><QueryTranslation>NM_009417[accn] OR NM_000547[accn] OR NM_001003009[accn] OR NM_019353[accn]</QueryTranslation></eSearchResult>\\n'"
      ]
     },
     "execution_count": 59,
     "metadata": {},
     "output_type": "execute_result"
    }
   ],
   "source": [
    "res.content"
   ]
  },
  {
   "cell_type": "code",
   "execution_count": 52,
   "metadata": {},
   "outputs": [],
   "source": [
    "from bs4 import BeautifulSoup"
   ]
  },
  {
   "cell_type": "code",
   "execution_count": 60,
   "metadata": {},
   "outputs": [],
   "source": [
    "soup = BeautifulSoup(res.content)"
   ]
  },
  {
   "cell_type": "code",
   "execution_count": 63,
   "metadata": {},
   "outputs": [
    {
     "name": "stdout",
     "output_type": "stream",
     "text": [
      "None\n"
     ]
    }
   ],
   "source": [
    "es_result = soup.find(\"eSearchResult\")\n",
    "print(es_result)"
   ]
  },
  {
   "cell_type": "code",
   "execution_count": 57,
   "metadata": {},
   "outputs": [
    {
     "name": "stdout",
     "output_type": "stream",
     "text": [
      "{'db': 'nuccore', 'term': 'NM_009417[accn]+OR+NM_000547[accn]+OR+NM_001003009[accn]+OR+NM_019353[accn]'}\n"
     ]
    }
   ],
   "source": [
    "print(params)"
   ]
  }
 ],
 "metadata": {
  "kernelspec": {
   "display_name": "Python 3",
   "language": "python",
   "name": "python3"
  },
  "language_info": {
   "codemirror_mode": {
    "name": "ipython",
    "version": 3
   },
   "file_extension": ".py",
   "mimetype": "text/x-python",
   "name": "python",
   "nbconvert_exporter": "python",
   "pygments_lexer": "ipython3",
   "version": "3.6.6"
  },
  "pycharm": {
   "stem_cell": {
    "cell_type": "raw",
    "source": [],
    "metadata": {
     "collapsed": false
    }
   }
  }
 },
 "nbformat": 4,
 "nbformat_minor": 2
}