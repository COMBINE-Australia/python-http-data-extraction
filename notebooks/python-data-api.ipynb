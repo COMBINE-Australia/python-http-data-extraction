{
 "cells": [
  {
   "cell_type": "code",
   "execution_count": 1,
   "metadata": {
    "pycharm": {
     "is_executing": false
    }
   },
   "outputs": [],
   "source": [
    "import requests\n",
    "import json\n",
    "import pandas as pd\n",
    "from io import StringIO"
   ]
  },
  {
   "cell_type": "markdown",
   "metadata": {},
   "source": [
    "`requests` is the recommended module for requesting and sending resources to a web-based API endpoint\n",
    "\n",
    "`json` is the built-in module for working with text data in JSON format"
   ]
  },
  {
   "cell_type": "markdown",
   "source": [
    "# UniProt REST API"
   ],
   "metadata": {
    "collapsed": false,
    "pycharm": {
     "name": "#%% md\n"
    }
   }
  },
  {
   "cell_type": "code",
   "execution_count": 2,
   "metadata": {
    "pycharm": {
     "is_executing": false
    }
   },
   "outputs": [],
   "source": [
    "uniprot_url = \"https://www.uniprot.org/uploadlists\"\n",
    "headers = {\n",
    "    \"User-Agent\": \"Python, toan.phung@uq.net.au\"\n",
    "}\n",
    "acc_file = \"../data/testlist.txt\""
   ]
  },
  {
   "cell_type": "markdown",
   "metadata": {
    "pycharm": {
     "name": "#%% md\n"
    }
   },
   "source": [
    "`https://www.uniprot.org/uploadlists` is the url of the uniprot REST API that we will used to request information\n",
    "\n",
    "`headers` is the metadata that should be included with every api requests for potential debugging purpose from uniprot admin"
   ]
  },
  {
   "cell_type": "code",
   "execution_count": 29,
   "metadata": {
    "pycharm": {
     "is_executing": false
    }
   },
   "outputs": [],
   "source": [
    "with open(acc_file, \"rt\") as source_acc:\n",
    "    l = [i.strip() for i in source_acc]"
   ]
  },
  {
   "cell_type": "markdown",
   "source": [
    "Opening the file containing our list of Uniprot accession id and store as an string array\n"
   ],
   "metadata": {
    "collapsed": false,
    "pycharm": {
     "name": "#%% md\n"
    }
   }
  },
  {
   "cell_type": "code",
   "execution_count": 65,
   "outputs": [],
   "source": [
    "parameters = {\n",
    "    \"query\": \" \".join(l),\n",
    "    \"format\": \"tab\",\n",
    "    \"from\": \"ACC,ID\",\n",
    "    \"to\": \"REFSEQ_NT_ID\"\n",
    "}\n"
   ],
   "metadata": {
    "collapsed": false,
    "pycharm": {
     "name": "#%%\n",
     "is_executing": false
    }
   }
  },
  {
   "cell_type": "markdown",
   "source": [
    "From the `uploadlists` api endpoint, there are a few options we can choose.\n",
    "\n",
    "For example, one can use Uniprot ability to convert input id format to id format in different databases.\n",
    "Above, we are created a parameters dictionary to convert from Uniprot accession. The dictionary contain 4 keys.\n",
    "- `query` value is a string constructed from the array above with each item joined by a space\n",
    "- `format` the desired return file format\n",
    "- `from` input format id type (uniprot acc and id)\n",
    "- `to` output format id type (RefSeq nucleotide sequence id)\n"
   ],
   "metadata": {
    "collapsed": false,
    "pycharm": {
     "name": "#%% md\n"
    }
   }
  },
  {
   "cell_type": "code",
   "execution_count": 66,
   "outputs": [
    {
     "name": "stdout",
     "text": [
      "200\n"
     ],
     "output_type": "stream"
    }
   ],
   "source": [
    "response = requests.get(uniprot_url, params=parameters, headers=headers)\n",
    "print(response.status_code)"
   ],
   "metadata": {
    "collapsed": false,
    "pycharm": {
     "name": "#%%\n",
     "is_executing": false
    }
   }
  },
  {
   "cell_type": "markdown",
   "source": [
    "`response` is the variable containing the request result from Uniprot."
   ],
   "metadata": {
    "collapsed": false
   }
  },
  {
   "cell_type": "code",
   "execution_count": 38,
   "outputs": [
    {
     "data": {
      "text/plain": "     From              To\n0  P25045  NM_001182805.1\n1  Q07844  NM_001181854.1\n2  P22147  NM_001181038.1\n3  P39931  NM_001182137.1\n4  P27692  NM_001182366.1",
      "text/html": "<div>\n<style scoped>\n    .dataframe tbody tr th:only-of-type {\n        vertical-align: middle;\n    }\n\n    .dataframe tbody tr th {\n        vertical-align: top;\n    }\n\n    .dataframe thead th {\n        text-align: right;\n    }\n</style>\n<table border=\"1\" class=\"dataframe\">\n  <thead>\n    <tr style=\"text-align: right;\">\n      <th></th>\n      <th>From</th>\n      <th>To</th>\n    </tr>\n  </thead>\n  <tbody>\n    <tr>\n      <th>0</th>\n      <td>P25045</td>\n      <td>NM_001182805.1</td>\n    </tr>\n    <tr>\n      <th>1</th>\n      <td>Q07844</td>\n      <td>NM_001181854.1</td>\n    </tr>\n    <tr>\n      <th>2</th>\n      <td>P22147</td>\n      <td>NM_001181038.1</td>\n    </tr>\n    <tr>\n      <th>3</th>\n      <td>P39931</td>\n      <td>NM_001182137.1</td>\n    </tr>\n    <tr>\n      <th>4</th>\n      <td>P27692</td>\n      <td>NM_001182366.1</td>\n    </tr>\n  </tbody>\n</table>\n</div>"
     },
     "metadata": {},
     "output_type": "execute_result",
     "execution_count": 38
    }
   ],
   "source": [
    "result_refseq_nt = pd.read_csv(StringIO(response.text), sep=\"\\t\")\n",
    "result_refseq_nt.head()"
   ],
   "metadata": {
    "collapsed": false,
    "pycharm": {
     "name": "#%%\n",
     "is_executing": false
    }
   }
  },
  {
   "cell_type": "markdown",
   "source": [
    "For saving the output from the operation, you can save directly from the response result or from the data frame.\n"
   ],
   "metadata": {
    "collapsed": false,
    "pycharm": {
     "name": "#%% md\n"
    }
   }
  },
  {
   "cell_type": "code",
   "execution_count": null,
   "outputs": [],
   "source": [
    "\n"
   ],
   "metadata": {
    "collapsed": false,
    "pycharm": {
     "name": "#%%\n"
    }
   }
  },
  {
   "cell_type": "markdown",
   "source": [
    "`result` store uniprot tabulated data in a `pandas` dataframe.\n",
    "\n",
    "First columne is the original input id and the second column is the corresponding id in the RefSeq nucleotide database."
   ],
   "metadata": {
    "collapsed": false
   }
  },
  {
   "cell_type": "code",
   "execution_count": 39,
   "outputs": [
    {
     "data": {
      "text/plain": "     From           To\n0  P25045  NP_014025.1\n1  Q07844  NP_013066.1\n2  P22147  NP_011342.1\n3  P39931  NP_013351.1\n4  P27692  NP_013703.1",
      "text/html": "<div>\n<style scoped>\n    .dataframe tbody tr th:only-of-type {\n        vertical-align: middle;\n    }\n\n    .dataframe tbody tr th {\n        vertical-align: top;\n    }\n\n    .dataframe thead th {\n        text-align: right;\n    }\n</style>\n<table border=\"1\" class=\"dataframe\">\n  <thead>\n    <tr style=\"text-align: right;\">\n      <th></th>\n      <th>From</th>\n      <th>To</th>\n    </tr>\n  </thead>\n  <tbody>\n    <tr>\n      <th>0</th>\n      <td>P25045</td>\n      <td>NP_014025.1</td>\n    </tr>\n    <tr>\n      <th>1</th>\n      <td>Q07844</td>\n      <td>NP_013066.1</td>\n    </tr>\n    <tr>\n      <th>2</th>\n      <td>P22147</td>\n      <td>NP_011342.1</td>\n    </tr>\n    <tr>\n      <th>3</th>\n      <td>P39931</td>\n      <td>NP_013351.1</td>\n    </tr>\n    <tr>\n      <th>4</th>\n      <td>P27692</td>\n      <td>NP_013703.1</td>\n    </tr>\n  </tbody>\n</table>\n</div>"
     },
     "metadata": {},
     "output_type": "execute_result",
     "execution_count": 39
    }
   ],
   "source": [
    "parameters[\"to\"] = \"P_REFSEQ_AC\"\n",
    "response = requests.get(uniprot_url, params=parameters, headers=headers)\n",
    "result_refseq_ac = pd.read_csv(StringIO(response.text), sep=\"\\t\")\n",
    "result_refseq_ac.head()"
   ],
   "metadata": {
    "collapsed": false,
    "pycharm": {
     "name": "#%%\n",
     "is_executing": false
    }
   }
  },
  {
   "cell_type": "markdown",
   "source": [
    "Above, we changed our query parameter to targeting RefSeq protein accession id instead.\n",
    "\n",
    "---\n",
    "\n",
    "Now what if we want to get more information from the Uniprot database instead of just doing id coversion."
   ],
   "metadata": {
    "collapsed": false,
    "pycharm": {
     "name": "#%% md\n"
    }
   }
  },
  {
   "cell_type": "code",
   "execution_count": 53,
   "outputs": [
    {
     "name": "stdout",
     "text": [
      "id,entry name,reviewed,protein names,organism,sequence\n"
     ],
     "output_type": "stream"
    }
   ],
   "source": [
    "extra_parameters = [\"id\", \"entry name\", \"reviewed\", \"protein names\", \"organism\", \"sequence\"]\n",
    "parameters[\"to\"] = \"ACC\"\n",
    "parameters[\"columns\"] = \",\".join(extra_parameters)\n",
    "print(parameters[\"columns\"])"
   ],
   "metadata": {
    "collapsed": false,
    "pycharm": {
     "name": "#%%\n",
     "is_executing": false
    }
   }
  },
  {
   "cell_type": "markdown",
   "source": [
    "Adding a fifth key to our parameters named\n",
    "- `columns` string composed of the columns name of desired data corresponding to the ids collection.\n",
    "Each column name separated by \",\". Above we are getting id, entry name, reviewed status, protein names, organism and \n",
    "protein sequence from Uniprot.\n",
    "\n",
    "For all column name accessible through this mode, you can visit https://www.uniprot.org/help/uniprotkb_column_names\n"
   ],
   "metadata": {
    "collapsed": false
   }
  },
  {
   "cell_type": "code",
   "execution_count": 45,
   "outputs": [
    {
     "data": {
      "text/plain": "    Entry   Entry name    Status  \\\n0  P25045   LCB1_YEAST  reviewed   \n1  Q07844   RIX7_YEAST  reviewed   \n2  P22147   XRN1_YEAST  reviewed   \n3  P39931  SS120_YEAST  reviewed   \n4  P27692   SPT5_YEAST  reviewed   \n\n                                       Protein names  \\\n0  Serine palmitoyltransferase 1 (SPT 1) (SPT1) (...   \n1                    Ribosome biogenesis ATPase RIX7   \n2  5'-3' exoribonuclease 1 (EC 3.1.13.-) (DNA str...   \n3                                     Protein SSP120   \n4  Transcription elongation factor SPT5 (Chromati...   \n\n                                            Organism  \\\n0  Saccharomyces cerevisiae (strain ATCC 204508 /...   \n1  Saccharomyces cerevisiae (strain ATCC 204508 /...   \n2  Saccharomyces cerevisiae (strain ATCC 204508 /...   \n3  Saccharomyces cerevisiae (strain ATCC 204508 /...   \n4  Saccharomyces cerevisiae (strain ATCC 204508 /...   \n\n                                            Sequence  \\\n0  MAHIPEVLPKSIPIPAFIVTTSSYLWYYFNLVLTQIPGGQFIVSYI...   \n1  MVKVKSKKNSLTSSLDNKIVDLIYRLLEEKTLDRKRSLRQESQGEE...   \n2  MGIPKFFRYISERWPMILQLIEGTQIPEFDNLYLDMNSILHNCTHG...   \n3  MRFLRGFVFSLAFTLYKVTATAEIGSEINVENEAPPDGLSWEEWHM...   \n4  MSDNSDTNVSMQDHDQQFADPVVVPQSTDTKDENTSDKDTVDSGNV...   \n\n  yourlist:M201907126746803381A1F0E0DB47453E0216320D51E8FES  \n0                                             P25045         \n1                                             Q07844         \n2                                             P22147         \n3                                             P39931         \n4                                             P27692         ",
      "text/html": "<div>\n<style scoped>\n    .dataframe tbody tr th:only-of-type {\n        vertical-align: middle;\n    }\n\n    .dataframe tbody tr th {\n        vertical-align: top;\n    }\n\n    .dataframe thead th {\n        text-align: right;\n    }\n</style>\n<table border=\"1\" class=\"dataframe\">\n  <thead>\n    <tr style=\"text-align: right;\">\n      <th></th>\n      <th>Entry</th>\n      <th>Entry name</th>\n      <th>Status</th>\n      <th>Protein names</th>\n      <th>Organism</th>\n      <th>Sequence</th>\n      <th>yourlist:M201907126746803381A1F0E0DB47453E0216320D51E8FES</th>\n    </tr>\n  </thead>\n  <tbody>\n    <tr>\n      <th>0</th>\n      <td>P25045</td>\n      <td>LCB1_YEAST</td>\n      <td>reviewed</td>\n      <td>Serine palmitoyltransferase 1 (SPT 1) (SPT1) (...</td>\n      <td>Saccharomyces cerevisiae (strain ATCC 204508 /...</td>\n      <td>MAHIPEVLPKSIPIPAFIVTTSSYLWYYFNLVLTQIPGGQFIVSYI...</td>\n      <td>P25045</td>\n    </tr>\n    <tr>\n      <th>1</th>\n      <td>Q07844</td>\n      <td>RIX7_YEAST</td>\n      <td>reviewed</td>\n      <td>Ribosome biogenesis ATPase RIX7</td>\n      <td>Saccharomyces cerevisiae (strain ATCC 204508 /...</td>\n      <td>MVKVKSKKNSLTSSLDNKIVDLIYRLLEEKTLDRKRSLRQESQGEE...</td>\n      <td>Q07844</td>\n    </tr>\n    <tr>\n      <th>2</th>\n      <td>P22147</td>\n      <td>XRN1_YEAST</td>\n      <td>reviewed</td>\n      <td>5'-3' exoribonuclease 1 (EC 3.1.13.-) (DNA str...</td>\n      <td>Saccharomyces cerevisiae (strain ATCC 204508 /...</td>\n      <td>MGIPKFFRYISERWPMILQLIEGTQIPEFDNLYLDMNSILHNCTHG...</td>\n      <td>P22147</td>\n    </tr>\n    <tr>\n      <th>3</th>\n      <td>P39931</td>\n      <td>SS120_YEAST</td>\n      <td>reviewed</td>\n      <td>Protein SSP120</td>\n      <td>Saccharomyces cerevisiae (strain ATCC 204508 /...</td>\n      <td>MRFLRGFVFSLAFTLYKVTATAEIGSEINVENEAPPDGLSWEEWHM...</td>\n      <td>P39931</td>\n    </tr>\n    <tr>\n      <th>4</th>\n      <td>P27692</td>\n      <td>SPT5_YEAST</td>\n      <td>reviewed</td>\n      <td>Transcription elongation factor SPT5 (Chromati...</td>\n      <td>Saccharomyces cerevisiae (strain ATCC 204508 /...</td>\n      <td>MSDNSDTNVSMQDHDQQFADPVVVPQSTDTKDENTSDKDTVDSGNV...</td>\n      <td>P27692</td>\n    </tr>\n  </tbody>\n</table>\n</div>"
     },
     "metadata": {},
     "output_type": "execute_result",
     "execution_count": 45
    }
   ],
   "source": [
    "response = requests.get(uniprot_url, params=parameters, headers=headers)\n",
    "result_uniprot = pd.read_csv(StringIO(response.text), sep=\"\\t\")\n",
    "print(result_uniprot.columns)\n",
    "result_uniprot.head()\n"
   ],
   "metadata": {
    "collapsed": false,
    "pycharm": {
     "name": "#%%\n",
     "is_executing": false
    }
   }
  },
  {
   "cell_type": "markdown",
   "source": [
    "An example for a more extensive parameters is below\n"
   ],
   "metadata": {
    "collapsed": false,
    "pycharm": {
     "name": "#%% md\n"
    }
   }
  },
  {
   "cell_type": "code",
   "execution_count": 82,
   "outputs": [
    {
     "name": "stdout",
     "text": [
      "Index(['Entry', 'Entry name', 'Status', 'Protein names', 'Gene names',\n       'Organism', 'Length', 'Organism ID', 'Gene ontology IDs',\n       'Gene ontology (cellular component)', 'Subcellular location [CC]',\n       'Topological domain', 'Glycosylation', 'Mass spectrometry', 'Sequence',\n       'Alternative sequence', 'Alternative products (isoforms)',\n       'yourlist:M201907156746803381A1F0E0DB47453E0216320D52DB7D6'],\n      dtype='object')\n"
     ],
     "output_type": "stream"
    },
    {
     "data": {
      "text/plain": "    Entry   Entry name    Status  \\\n0  P25045   LCB1_YEAST  reviewed   \n1  Q07844   RIX7_YEAST  reviewed   \n2  P22147   XRN1_YEAST  reviewed   \n3  P39931  SS120_YEAST  reviewed   \n4  P27692   SPT5_YEAST  reviewed   \n\n                                       Protein names  \\\n0  Serine palmitoyltransferase 1 (SPT 1) (SPT1) (...   \n1                    Ribosome biogenesis ATPase RIX7   \n2  5'-3' exoribonuclease 1 (EC 3.1.13.-) (DNA str...   \n3                                     Protein SSP120   \n4  Transcription elongation factor SPT5 (Chromati...   \n\n                                    Gene names  \\\n0                       LCB1 END8 TSC2 YMR296C   \n1                                 RIX7 YLL034C   \n2  XRN1 DST2 KEM1 RAR5 SEP1 SKI1 YGL173C G1645   \n3                       SSP120 YLR250W L9672.4   \n4                       SPT5 YML010W YM9571.08   \n\n                                            Organism  Length  Organism ID  \\\n0  Saccharomyces cerevisiae (strain ATCC 204508 /...     558       559292   \n1  Saccharomyces cerevisiae (strain ATCC 204508 /...     837       559292   \n2  Saccharomyces cerevisiae (strain ATCC 204508 /...    1528       559292   \n3  Saccharomyces cerevisiae (strain ATCC 204508 /...     234       559292   \n4  Saccharomyces cerevisiae (strain ATCC 204508 /...    1063       559292   \n\n                                   Gene ontology IDs  \\\n0  GO:0004758; GO:0005783; GO:0016021; GO:0017059...   \n1  GO:0000055; GO:0005524; GO:0005634; GO:0005730...   \n2  GO:0000184; GO:0000741; GO:0000932; GO:0000956...   \n3     GO:0000324; GO:0005509; GO:0005737; GO:0005793   \n4  GO:0000993; GO:0001042; GO:0001179; GO:0003677...   \n\n                  Gene ontology (cellular component)  \\\n0  endoplasmic reticulum [GO:0005783]; integral c...   \n1  nucleolus [GO:0005730]; nucleus [GO:0005634]; ...   \n2  cytoplasm [GO:0005737]; cytoplasmic stress gra...   \n3  cytoplasm [GO:0005737]; endoplasmic reticulum-...   \n4  DSIF complex [GO:0032044]; mitochondrion [GO:0...   \n\n                           Subcellular location [CC]  \\\n0  SUBCELLULAR LOCATION: Cytoplasm. Endoplasmic r...   \n1  SUBCELLULAR LOCATION: Nucleus, nucleolus {ECO:...   \n2  SUBCELLULAR LOCATION: Cytoplasm. Cytoplasm, pe...   \n3                                                NaN   \n4  SUBCELLULAR LOCATION: Nucleus {ECO:0000269|Pub...   \n\n                                  Topological domain Glycosylation  \\\n0  TOPO_DOM 1 49 Lumenal. {ECO:0000269|PubMed:154...           NaN   \n1                                                NaN           NaN   \n2                                                NaN           NaN   \n3                                                NaN           NaN   \n4                                                NaN           NaN   \n\n  Mass spectrometry                                           Sequence  \\\n0               NaN  MAHIPEVLPKSIPIPAFIVTTSSYLWYYFNLVLTQIPGGQFIVSYI...   \n1               NaN  MVKVKSKKNSLTSSLDNKIVDLIYRLLEEKTLDRKRSLRQESQGEE...   \n2               NaN  MGIPKFFRYISERWPMILQLIEGTQIPEFDNLYLDMNSILHNCTHG...   \n3               NaN  MRFLRGFVFSLAFTLYKVTATAEIGSEINVENEAPPDGLSWEEWHM...   \n4               NaN  MSDNSDTNVSMQDHDQQFADPVVVPQSTDTKDENTSDKDTVDSGNV...   \n\n  Alternative sequence Alternative products (isoforms)  \\\n0                  NaN                             NaN   \n1                  NaN                             NaN   \n2                  NaN                             NaN   \n3                  NaN                             NaN   \n4                  NaN                             NaN   \n\n  yourlist:M201907156746803381A1F0E0DB47453E0216320D52DB7D6  \n0                                             P25045         \n1                                             Q07844         \n2                                             P22147         \n3                                             P39931         \n4                                             P27692         ",
      "text/html": "<div>\n<style scoped>\n    .dataframe tbody tr th:only-of-type {\n        vertical-align: middle;\n    }\n\n    .dataframe tbody tr th {\n        vertical-align: top;\n    }\n\n    .dataframe thead th {\n        text-align: right;\n    }\n</style>\n<table border=\"1\" class=\"dataframe\">\n  <thead>\n    <tr style=\"text-align: right;\">\n      <th></th>\n      <th>Entry</th>\n      <th>Entry name</th>\n      <th>Status</th>\n      <th>Protein names</th>\n      <th>Gene names</th>\n      <th>Organism</th>\n      <th>Length</th>\n      <th>Organism ID</th>\n      <th>Gene ontology IDs</th>\n      <th>Gene ontology (cellular component)</th>\n      <th>Subcellular location [CC]</th>\n      <th>Topological domain</th>\n      <th>Glycosylation</th>\n      <th>Mass spectrometry</th>\n      <th>Sequence</th>\n      <th>Alternative sequence</th>\n      <th>Alternative products (isoforms)</th>\n      <th>yourlist:M201907156746803381A1F0E0DB47453E0216320D52DB7D6</th>\n    </tr>\n  </thead>\n  <tbody>\n    <tr>\n      <th>0</th>\n      <td>P25045</td>\n      <td>LCB1_YEAST</td>\n      <td>reviewed</td>\n      <td>Serine palmitoyltransferase 1 (SPT 1) (SPT1) (...</td>\n      <td>LCB1 END8 TSC2 YMR296C</td>\n      <td>Saccharomyces cerevisiae (strain ATCC 204508 /...</td>\n      <td>558</td>\n      <td>559292</td>\n      <td>GO:0004758; GO:0005783; GO:0016021; GO:0017059...</td>\n      <td>endoplasmic reticulum [GO:0005783]; integral c...</td>\n      <td>SUBCELLULAR LOCATION: Cytoplasm. Endoplasmic r...</td>\n      <td>TOPO_DOM 1 49 Lumenal. {ECO:0000269|PubMed:154...</td>\n      <td>NaN</td>\n      <td>NaN</td>\n      <td>MAHIPEVLPKSIPIPAFIVTTSSYLWYYFNLVLTQIPGGQFIVSYI...</td>\n      <td>NaN</td>\n      <td>NaN</td>\n      <td>P25045</td>\n    </tr>\n    <tr>\n      <th>1</th>\n      <td>Q07844</td>\n      <td>RIX7_YEAST</td>\n      <td>reviewed</td>\n      <td>Ribosome biogenesis ATPase RIX7</td>\n      <td>RIX7 YLL034C</td>\n      <td>Saccharomyces cerevisiae (strain ATCC 204508 /...</td>\n      <td>837</td>\n      <td>559292</td>\n      <td>GO:0000055; GO:0005524; GO:0005634; GO:0005730...</td>\n      <td>nucleolus [GO:0005730]; nucleus [GO:0005634]; ...</td>\n      <td>SUBCELLULAR LOCATION: Nucleus, nucleolus {ECO:...</td>\n      <td>NaN</td>\n      <td>NaN</td>\n      <td>NaN</td>\n      <td>MVKVKSKKNSLTSSLDNKIVDLIYRLLEEKTLDRKRSLRQESQGEE...</td>\n      <td>NaN</td>\n      <td>NaN</td>\n      <td>Q07844</td>\n    </tr>\n    <tr>\n      <th>2</th>\n      <td>P22147</td>\n      <td>XRN1_YEAST</td>\n      <td>reviewed</td>\n      <td>5'-3' exoribonuclease 1 (EC 3.1.13.-) (DNA str...</td>\n      <td>XRN1 DST2 KEM1 RAR5 SEP1 SKI1 YGL173C G1645</td>\n      <td>Saccharomyces cerevisiae (strain ATCC 204508 /...</td>\n      <td>1528</td>\n      <td>559292</td>\n      <td>GO:0000184; GO:0000741; GO:0000932; GO:0000956...</td>\n      <td>cytoplasm [GO:0005737]; cytoplasmic stress gra...</td>\n      <td>SUBCELLULAR LOCATION: Cytoplasm. Cytoplasm, pe...</td>\n      <td>NaN</td>\n      <td>NaN</td>\n      <td>NaN</td>\n      <td>MGIPKFFRYISERWPMILQLIEGTQIPEFDNLYLDMNSILHNCTHG...</td>\n      <td>NaN</td>\n      <td>NaN</td>\n      <td>P22147</td>\n    </tr>\n    <tr>\n      <th>3</th>\n      <td>P39931</td>\n      <td>SS120_YEAST</td>\n      <td>reviewed</td>\n      <td>Protein SSP120</td>\n      <td>SSP120 YLR250W L9672.4</td>\n      <td>Saccharomyces cerevisiae (strain ATCC 204508 /...</td>\n      <td>234</td>\n      <td>559292</td>\n      <td>GO:0000324; GO:0005509; GO:0005737; GO:0005793</td>\n      <td>cytoplasm [GO:0005737]; endoplasmic reticulum-...</td>\n      <td>NaN</td>\n      <td>NaN</td>\n      <td>NaN</td>\n      <td>NaN</td>\n      <td>MRFLRGFVFSLAFTLYKVTATAEIGSEINVENEAPPDGLSWEEWHM...</td>\n      <td>NaN</td>\n      <td>NaN</td>\n      <td>P39931</td>\n    </tr>\n    <tr>\n      <th>4</th>\n      <td>P27692</td>\n      <td>SPT5_YEAST</td>\n      <td>reviewed</td>\n      <td>Transcription elongation factor SPT5 (Chromati...</td>\n      <td>SPT5 YML010W YM9571.08</td>\n      <td>Saccharomyces cerevisiae (strain ATCC 204508 /...</td>\n      <td>1063</td>\n      <td>559292</td>\n      <td>GO:0000993; GO:0001042; GO:0001179; GO:0003677...</td>\n      <td>DSIF complex [GO:0032044]; mitochondrion [GO:0...</td>\n      <td>SUBCELLULAR LOCATION: Nucleus {ECO:0000269|Pub...</td>\n      <td>NaN</td>\n      <td>NaN</td>\n      <td>NaN</td>\n      <td>MSDNSDTNVSMQDHDQQFADPVVVPQSTDTKDENTSDKDTVDSGNV...</td>\n      <td>NaN</td>\n      <td>NaN</td>\n      <td>P27692</td>\n    </tr>\n  </tbody>\n</table>\n</div>"
     },
     "metadata": {},
     "output_type": "execute_result",
     "execution_count": 82
    }
   ],
   "source": [
    "parameters = {\n",
    "    \"query\": \" \".join(l),\n",
    "    \"format\": \"tab\",\n",
    "    \"from\": \"ACC,ID\",\n",
    "    \"to\": \"ACC\",\n",
    "    \"columns\": \"id,entry name,reviewed,protein names,genes,organism,length,\" \\\n",
    "                                   \"organism-id,go-id,go(cellular component),comment(SUBCELLULAR LOCATION),\" \\\n",
    "                                   \"feature(TOPOLOGICAL_DOMAIN),feature(GLYCOSYLATION),comment(MASS SPECTROMETRY),\" \\\n",
    "                                   \"sequence,feature(ALTERNATIVE SEQUENCE),comment(ALTERNATIVE PRODUCTS) \",\n",
    "}\n",
    "\n",
    "response = requests.get(uniprot_url, params=parameters, headers=headers)\n",
    "\n",
    "result_uniprot_extensive = pd.read_csv(StringIO(response.text), sep=\"\\t\")\n",
    "print(result_uniprot_extensive.columns)\n",
    "result_uniprot_extensive.head()"
   ],
   "metadata": {
    "collapsed": false,
    "pycharm": {
     "name": "#%%\n",
     "is_executing": false
    }
   }
  },
  {
   "cell_type": "markdown",
   "source": [
    "Tabulated output from Uniprot does not give isoform sequence. If you want to get their sequence as well, you will have \n",
    "to work with fasta output instead of tabulated. An extra parameters is also needed is `include : \"yes\"`\n"
   ],
   "metadata": {
    "collapsed": false,
    "pycharm": {
     "name": "#%% md\n",
     "is_executing": false
    }
   }
  },
  {
   "cell_type": "code",
   "execution_count": 73,
   "outputs": [],
   "source": [
    "parameters = {\n",
    "    \"query\": \" \".join(l),\n",
    "    \"format\": \"fasta\",\n",
    "    \"from\": \"ACC,ID\",\n",
    "    \"to\": \"ACC\",\n",
    "    \"include\": \"yes\",\n",
    "    \"reviewed\": \"yes\"\n",
    "}\n",
    "response = requests.get(uniprot_url, params=parameters, headers=headers)"
   ],
   "metadata": {
    "collapsed": false,
    "pycharm": {
     "name": "#%%\n",
     "is_executing": false
    }
   }
  },
  {
   "cell_type": "markdown",
   "source": [
    "With the fasta file retrieved, we would still need to save it out.\n"
   ],
   "metadata": {
    "collapsed": false,
    "pycharm": {
     "name": "#%% md\n"
    }
   }
  },
  {
   "cell_type": "code",
   "execution_count": 74,
   "outputs": [],
   "source": [
    "with open(\"../data/all_isoforms.fasta\", \"wb\") as fasta_file:\n",
    "    fasta_file.write(response.content)\n",
    "    "
   ],
   "metadata": {
    "collapsed": false,
    "pycharm": {
     "name": "#%%\n",
     "is_executing": false
    }
   }
  },
  {
   "cell_type": "markdown",
   "source": [
    "For query not using an id or accession but a more general search, the api endpoint will have to be changed to `https://www.uniprot.org/uniprot`\n"
   ],
   "metadata": {
    "collapsed": false,
    "pycharm": {
     "name": "#%% md\n"
    }
   }
  },
  {
   "cell_type": "code",
   "execution_count": null,
   "outputs": [],
   "source": [
    "uniprot_url = \"https://www.uniprot.org/uniprot\"\n",
    "parameters = "
   ],
   "metadata": {
    "collapsed": false,
    "pycharm": {
     "name": "#%%\n"
    }
   }
  },
  {
   "cell_type": "markdown",
   "source": [
    "# NCBI API\n"
   ],
   "metadata": {
    "collapsed": false,
    "pycharm": {
     "name": "#%% md\n"
    }
   }
  },
  {
   "cell_type": "code",
   "execution_count": null,
   "outputs": [],
   "source": [
    "result = pd.read_csv(StringIO(response.text), sep=\"\\t\")\n"
   ],
   "metadata": {
    "collapsed": false,
    "pycharm": {
     "name": "#%%\n"
    }
   }
  },
  {
   "cell_type": "markdown",
   "source": [
    "`result` store uniprot tabulated data in a `pandas` dataframe.\n"
   ],
   "metadata": {
    "collapsed": false,
    "pycharm": {
     "name": "#%% md\n"
    }
   }
  },
  {
   "cell_type": "code",
   "execution_count": 40,
   "metadata": {
    "pycharm": {
     "is_executing": false
    }
   },
   "outputs": [],
   "source": [
    "eutil_path = \"https://eutils.ncbi.nlm.nih.gov/entrez/eutils/\"\n",
    "acc_list = ['NM_009417','NM_000547','NM_001003009','NM_019353']\n",
    "query = \"\"\n",
    "for i in range(len(acc_list)):\n",
    "    acc_list[i] = acc_list[i] + \"[accn]\"\n",
    "query = \"+OR+\".join(acc_list)\n",
    "params = [\n",
    "    \"db=nuccore\",\n",
    "    \"term={}\".format(query),\n",
    "    \"usehistory=y\"\n",
    "]\n",
    "url = \"&\".join(params)"
   ]
  },
  {
   "cell_type": "code",
   "execution_count": 41,
   "metadata": {
    "pycharm": {
     "is_executing": false
    }
   },
   "outputs": [],
   "source": [
    "res = requests.get(eutil_path + \"esearch.fcgi?\" + url, headers=headers)"
   ]
  },
  {
   "cell_type": "code",
   "execution_count": 6,
   "metadata": {
    "pycharm": {
     "is_executing": false
    }
   },
   "outputs": [
    {
     "data": {
      "text/plain": "b'<?xml version=\"1.0\" encoding=\"UTF-8\" ?>\\n<!DOCTYPE eSearchResult PUBLIC \"-//NLM//DTD esearch 20060628//EN\" \"https://eutils.ncbi.nlm.nih.gov/eutils/dtd/20060628/esearch.dtd\">\\n<eSearchResult><Count>4</Count><RetMax>4</RetMax><RetStart>0</RetStart><QueryKey>1</QueryKey><WebEnv>NCID_1_54036580_130.14.22.33_9001_1559264498_1086444762_0MetA0_S_MegaStore</WebEnv><IdList>\\n<Id>253735815</Id>\\n<Id>927442695</Id>\\n<Id>402766536</Id>\\n<Id>350529408</Id>\\n</IdList><TranslationSet/><TranslationStack>   <TermSet>    <Term>NM_009417[accn]</Term>    <Field>accn</Field>    <Count>1</Count>    <Explode>N</Explode>   </TermSet>   <TermSet>    <Term>NM_000547[accn]</Term>    <Field>accn</Field>    <Count>1</Count>    <Explode>N</Explode>   </TermSet>   <OP>OR</OP>   <TermSet>    <Term>NM_001003009[accn]</Term>    <Field>accn</Field>    <Count>1</Count>    <Explode>N</Explode>   </TermSet>   <OP>OR</OP>   <TermSet>    <Term>NM_019353[accn]</Term>    <Field>accn</Field>    <Count>1</Count>    <Explode>N</Explode>   </TermSet>   <OP>OR</OP>  </TranslationStack><QueryTranslation>NM_009417[accn] OR NM_000547[accn] OR NM_001003009[accn] OR NM_019353[accn]</QueryTranslation></eSearchResult>\\n'"
     },
     "metadata": {},
     "output_type": "execute_result",
     "execution_count": 6
    }
   ],
   "source": [
    "res.content"
   ]
  },
  {
   "cell_type": "markdown",
   "source": [
    "E-search would return an xml document containing the assigned ID for the query to be used for retrieving the result.\n",
    "The assigned ID is stored in two part, one in the QueryKey tab, another in the WebEnv tab.\n",
    "\n",
    "If the return result is large, it is suggested to manually grab 500 sequences at a time."
   ],
   "metadata": {
    "collapsed": false,
    "pycharm": {
     "name": "#%% md\n"
    }
   }
  },
  {
   "cell_type": "code",
   "execution_count": 7,
   "metadata": {
    "pycharm": {
     "is_executing": false
    }
   },
   "outputs": [],
   "source": [
    "from bs4 import BeautifulSoup"
   ]
  },
  {
   "cell_type": "code",
   "execution_count": 43,
   "metadata": {
    "pycharm": {
     "is_executing": false
    }
   },
   "outputs": [],
   "source": [
    "soup = BeautifulSoup(res.content, features=\"lxml-xml\")"
   ]
  },
  {
   "cell_type": "code",
   "execution_count": 44,
   "outputs": [
    {
     "name": "stdout",
     "text": [
      "4\n"
     ],
     "output_type": "stream"
    }
   ],
   "source": [
    "print(soup.find(\"Count\").text)"
   ],
   "metadata": {
    "collapsed": false,
    "pycharm": {
     "name": "#%%\n",
     "is_executing": false
    }
   }
  },
  {
   "cell_type": "code",
   "execution_count": 45,
   "metadata": {
    "pycharm": {
     "is_executing": false
    }
   },
   "outputs": [],
   "source": [
    "query_key = soup.find(\"QueryKey\").text\n",
    "web_env = soup.find(\"WebEnv\").text"
   ]
  },
  {
   "cell_type": "markdown",
   "source": [
    "Now we can use E-fetch to retrieve the result. E-fetch can return data in different format.\n",
    "More information on return datatype\n",
    "https://www.ncbi.nlm.nih.gov/books/NBK25499/table/chapter4.T._valid_values_of__retmode_and/"
   ],
   "metadata": {
    "collapsed": false
   }
  },
  {
   "cell_type": "code",
   "execution_count": 46,
   "metadata": {
    "pycharm": {
     "is_executing": false
    }
   },
   "outputs": [],
   "source": [
    "retrieve_params = [\n",
    "    \"db=nuccore\",\n",
    "    \"query_key={}\".format(query_key),\n",
    "    \"WebEnv={}\".format(web_env),\n",
    "    \"rettype=gb\",\n",
    "    \"retmode=xml\"\n",
    "]\n",
    "retrieve_url = \"&\".join(retrieve_params)"
   ]
  },
  {
   "cell_type": "code",
   "execution_count": 47,
   "outputs": [],
   "source": [
    "res = requests.get(eutil_path + \"efetch.fcgi?\" + retrieve_url, headers=headers)\n",
    "soup = BeautifulSoup(res.text, features=\"lxml-xml\")"
   ],
   "metadata": {
    "collapsed": false,
    "pycharm": {
     "name": "#%%\n",
     "is_executing": false
    }
   }
  },
  {
   "cell_type": "code",
   "execution_count": 48,
   "outputs": [],
   "source": [
    "entries = []\n",
    "for gb_seq in soup.find_all(\"GBSeq\"):\n",
    "    entry = {}\n",
    "    entry[\"locus\"] = gb_seq.find(\"GBSeq_locus\").text\n",
    "    entry[\"definition\"] = gb_seq.find(\"GBSeq_definition\").text\n",
    "    entry[\"id\"] = gb_seq.find(\"GBSeqid\").text\n",
    "    entry[\"org\"] = gb_seq.find(\"GBSeq_organism\").text\n",
    "    entry[\"sequence\"] = gb_seq.find(\"GBSeq_sequence\").text\n",
    "    entries.append(entry)\n",
    "        "
   ],
   "metadata": {
    "collapsed": false,
    "pycharm": {
     "name": "#%%\n",
     "is_executing": false
    }
   }
  },
  {
   "cell_type": "markdown",
   "source": [
    "Convert the output into a more familiar and tabulated format like a `Pandas.DataFrame`."
   ],
   "metadata": {
    "collapsed": false,
    "pycharm": {
     "name": "#%% md\n"
    }
   }
  },
  {
   "cell_type": "code",
   "execution_count": 49,
   "outputs": [
    {
     "data": {
      "text/plain": "                                          definition                   id  \\\n0  Homo sapiens thyroid peroxidase (TPO), transcr...     ref|NM_000547.5|   \n1        Mus musculus thyroid peroxidase (Tpo), mRNA     ref|NM_009417.3|   \n2   Rattus norvegicus thyroid peroxidase (Tpo), mRNA     ref|NM_019353.2|   \n3  Canis lupus familiaris thyroid peroxidase (TPO...  ref|NM_001003009.2|   \n\n          locus                     org  \n0     NM_000547            Homo sapiens  \n1     NM_009417            Mus musculus  \n2     NM_019353       Rattus norvegicus  \n3  NM_001003009  Canis lupus familiaris  ",
      "text/html": "<div>\n<style scoped>\n    .dataframe tbody tr th:only-of-type {\n        vertical-align: middle;\n    }\n\n    .dataframe tbody tr th {\n        vertical-align: top;\n    }\n\n    .dataframe thead th {\n        text-align: right;\n    }\n</style>\n<table border=\"1\" class=\"dataframe\">\n  <thead>\n    <tr style=\"text-align: right;\">\n      <th></th>\n      <th>definition</th>\n      <th>id</th>\n      <th>locus</th>\n      <th>org</th>\n    </tr>\n  </thead>\n  <tbody>\n    <tr>\n      <th>0</th>\n      <td>Homo sapiens thyroid peroxidase (TPO), transcr...</td>\n      <td>ref|NM_000547.5|</td>\n      <td>NM_000547</td>\n      <td>Homo sapiens</td>\n    </tr>\n    <tr>\n      <th>1</th>\n      <td>Mus musculus thyroid peroxidase (Tpo), mRNA</td>\n      <td>ref|NM_009417.3|</td>\n      <td>NM_009417</td>\n      <td>Mus musculus</td>\n    </tr>\n    <tr>\n      <th>2</th>\n      <td>Rattus norvegicus thyroid peroxidase (Tpo), mRNA</td>\n      <td>ref|NM_019353.2|</td>\n      <td>NM_019353</td>\n      <td>Rattus norvegicus</td>\n    </tr>\n    <tr>\n      <th>3</th>\n      <td>Canis lupus familiaris thyroid peroxidase (TPO...</td>\n      <td>ref|NM_001003009.2|</td>\n      <td>NM_001003009</td>\n      <td>Canis lupus familiaris</td>\n    </tr>\n  </tbody>\n</table>\n</div>"
     },
     "metadata": {},
     "output_type": "execute_result",
     "execution_count": 49
    }
   ],
   "source": [
    "df = pd.DataFrame(entries)\n",
    "df.head()"
   ],
   "metadata": {
    "collapsed": false,
    "pycharm": {
     "name": "#%%\n",
     "is_executing": false
    }
   }
  },
  {
   "cell_type": "markdown",
   "source": [
    "Or output into fasta format"
   ],
   "metadata": {
    "collapsed": false,
    "pycharm": {
     "name": "#%% md\n"
    }
   }
  },
  {
   "cell_type": "code",
   "execution_count": null,
   "outputs": [],
   "source": [
    "with open(\"\")\n",
    "for i in entries:\n",
    "    \n"
   ],
   "metadata": {
    "collapsed": false,
    "pycharm": {
     "name": "#%%\n"
    }
   }
  }
 ],
 "metadata": {
  "kernelspec": {
   "display_name": "Python 3",
   "language": "python",
   "name": "python3"
  },
  "language_info": {
   "codemirror_mode": {
    "name": "ipython",
    "version": 3
   },
   "file_extension": ".py",
   "mimetype": "text/x-python",
   "name": "python",
   "nbconvert_exporter": "python",
   "pygments_lexer": "ipython3",
   "version": "3.6.6"
  },
  "pycharm": {
   "stem_cell": {
    "cell_type": "raw",
    "source": [],
    "metadata": {
     "collapsed": false
    }
   }
  }
 },
 "nbformat": 4,
 "nbformat_minor": 2
}